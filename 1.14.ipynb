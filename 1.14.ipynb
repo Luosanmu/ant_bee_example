{
 "cells": [
  {
   "cell_type": "markdown",
   "id": "02464959",
   "metadata": {
    "papermill": {
     "duration": 0.016427,
     "end_time": "2022-01-14T06:48:06.139330",
     "exception": false,
     "start_time": "2022-01-14T06:48:06.122903",
     "status": "completed"
    },
    "tags": []
   },
   "source": [
    "# 导入函数处理模块\n",
    "具体的库主要有**绘图库**、**神经网络模块库**、**计算机视觉库**、**基本库**等"
   ]
  },
  {
   "cell_type": "code",
   "execution_count": 1,
   "id": "327a00af",
   "metadata": {
    "execution": {
     "iopub.execute_input": "2022-01-14T06:48:06.176761Z",
     "iopub.status.busy": "2022-01-14T06:48:06.174932Z",
     "iopub.status.idle": "2022-01-14T06:48:07.567601Z",
     "shell.execute_reply": "2022-01-14T06:48:07.568370Z",
     "shell.execute_reply.started": "2022-01-14T05:19:26.184358Z"
    },
    "papermill": {
     "duration": 1.413212,
     "end_time": "2022-01-14T06:48:07.568747",
     "exception": false,
     "start_time": "2022-01-14T06:48:06.155535",
     "status": "completed"
    },
    "tags": []
   },
   "outputs": [
    {
     "data": {
      "text/plain": [
       "<matplotlib.pyplot._IonContext at 0x7f7635bf4090>"
      ]
     },
     "execution_count": 1,
     "metadata": {},
     "output_type": "execute_result"
    }
   ],
   "source": [
    "# division的作用就是可以 3/4 = 0.75 而不是 0\n",
    "from __future__ import print_function,division\n",
    "\n",
    "# 导入神经网络模块\n",
    "import torch \n",
    "import torch.nn as nn\n",
    "import torch.optim as optim\n",
    "from torch.optim import lr_scheduler\n",
    "\n",
    "# 导入 pytorch 的计算机视觉模块\n",
    "import torchvision\n",
    "from torch.utils.data import DataLoader as DataLoader\n",
    "from torchvision import datasets, models, transforms\n",
    "\n",
    "# 导入基本库\n",
    "import os\n",
    "import time\n",
    "import copy\n",
    "\n",
    "# 导入数据分析与matplotlib绘图库\n",
    "import numpy as np\n",
    "from PIL import Image\n",
    "import matplotlib.pyplot as plt\n",
    "\n",
    "# 打开交互模式，可以看到动态过程\n",
    "plt.ion()"
   ]
  },
  {
   "cell_type": "markdown",
   "id": "ecdbbbc9",
   "metadata": {
    "papermill": {
     "duration": 0.014224,
     "end_time": "2022-01-14T06:48:07.602826",
     "exception": false,
     "start_time": "2022-01-14T06:48:07.588602",
     "status": "completed"
    },
    "tags": []
   },
   "source": [
    "# 图像预处理\n",
    "预处理的操作有：\\\\\n",
    "`随机裁剪成某个固定大小的正方形`，\\\\\n",
    "`随机翻转和旋转图片`，\\\\\n",
    "`图片转化成张量`，\\\\\n",
    "`对张量正则化处理`；\\\\\n",
    "同时，对于val集，我们不对其做增强操作，我们仅对其做:\\\\\n",
    "`缩放图片`\\\\\n",
    "`裁剪成和训练集一样大小的图片`\\\\\n",
    "`转化张量`\\\\\n",
    "`张量正则化处理`\\\\"
   ]
  },
  {
   "cell_type": "code",
   "execution_count": 2,
   "id": "97cec423",
   "metadata": {
    "execution": {
     "iopub.execute_input": "2022-01-14T06:48:07.639925Z",
     "iopub.status.busy": "2022-01-14T06:48:07.639226Z",
     "iopub.status.idle": "2022-01-14T06:48:07.640999Z",
     "shell.execute_reply": "2022-01-14T06:48:07.641539Z",
     "shell.execute_reply.started": "2022-01-14T05:19:26.196045Z"
    },
    "papermill": {
     "duration": 0.024633,
     "end_time": "2022-01-14T06:48:07.641714",
     "exception": false,
     "start_time": "2022-01-14T06:48:07.617081",
     "status": "completed"
    },
    "tags": []
   },
   "outputs": [],
   "source": [
    "# 对train集进行 数据增强 和 数据正则化\n",
    "# 仅valid集进行 数据正则化\n",
    "# 用transforms.Compose将一系列的transforms方法进行有序的组合包装，用包装的方法制作图像预处理样式\n",
    "\n",
    "data_transforms = {\n",
    "    'train': transforms.Compose([\n",
    "        # 随机大小裁剪图片，得到 224 * 224 大小的图片\n",
    "        transforms.RandomResizedCrop(224),  \n",
    "        # 随机图片翻转和旋转\n",
    "        transforms.RandomHorizontalFlip(),\n",
    "        # 将图片转化成张量\n",
    "        transforms.ToTensor(),\n",
    "        # 张量正则化处理\n",
    "        transforms.Normalize([0.485,0.456,0.406],[0.229,0.224,0.225])\n",
    "    ]),\n",
    "\n",
    "    'val': transforms.Compose([\n",
    "        # 改变图像大小，得到的是 xxx * 256 的！\n",
    "        transforms.Resize(256),\n",
    "        # 图片中心裁剪,得到 224*224的图片\n",
    "        transforms.CenterCrop(224),\n",
    "        # 将图片转化成张量\n",
    "        transforms.ToTensor(),\n",
    "        # 张量正则化处理\n",
    "        transforms.Normalize([0.485,0.456,0.406],[0.229,0.224,0.225])\n",
    "    ]),\n",
    "}"
   ]
  },
  {
   "cell_type": "markdown",
   "id": "27dd0862",
   "metadata": {
    "papermill": {
     "duration": 0.014214,
     "end_time": "2022-01-14T06:48:07.670509",
     "exception": false,
     "start_time": "2022-01-14T06:48:07.656295",
     "status": "completed"
    },
    "tags": []
   },
   "source": [
    "# 导入图片的操作"
   ]
  },
  {
   "cell_type": "code",
   "execution_count": 3,
   "id": "3a65fa8a",
   "metadata": {
    "execution": {
     "iopub.execute_input": "2022-01-14T06:48:07.703579Z",
     "iopub.status.busy": "2022-01-14T06:48:07.702847Z",
     "iopub.status.idle": "2022-01-14T06:48:07.820998Z",
     "shell.execute_reply": "2022-01-14T06:48:07.821585Z",
     "shell.execute_reply.started": "2022-01-14T05:19:26.206104Z"
    },
    "papermill": {
     "duration": 0.136466,
     "end_time": "2022-01-14T06:48:07.821763",
     "exception": false,
     "start_time": "2022-01-14T06:48:07.685297",
     "status": "completed"
    },
    "tags": []
   },
   "outputs": [],
   "source": [
    "# 根目录的地址\n",
    "data_dir = '/kaggle/input/ant-bee-example'\n",
    "# 图片的数据集字典，使用 datasets.ImageFolder 构建图片数据集\n",
    "# 对图片的数据集进行预处理，要求按类别进行处理\n",
    "image_datasets = {x: datasets.ImageFolder(os.path.join(data_dir, x),\n",
    "                                          data_transforms[x]) for x in ['train','val']}\n",
    "\n",
    "# 数据集加载，要求按照类别进行加载，每4个图片为1个批次\n",
    "dataloaders = {x: DataLoader(image_datasets[x], \n",
    "                             batch_size=4,\n",
    "                             shuffle=True,\n",
    "                             num_workers=4) for x in ['train','val']}\n",
    "\n",
    "device = torch.device(\"cuda:0\" if torch.cuda.is_available() else \"cpu\")\n",
    "\n",
    "'''''''''''''''''''''''''''''''''''''''''''''\n",
    "下面的两个数据\n",
    "是用来今后做统计的\n",
    "并不是空穴来风!\n",
    "'''''''''''''''''''''''''''''''''''''''''''''\n",
    "\n",
    "# 数据集大小，按类别进行分类                          \n",
    "# {'train': 244, 'val': 153}\n",
    "dataset_sizes = {x: len(image_datasets[x]) for x in ['train','val']}\n",
    "\n",
    "# 训练集内的类别名字，只有train和val类别之分          \n",
    "# ['ants', 'bees']；\n",
    "class_names = image_datasets['train'].classes"
   ]
  },
  {
   "cell_type": "markdown",
   "id": "48c6342a",
   "metadata": {
    "papermill": {
     "duration": 0.014047,
     "end_time": "2022-01-14T06:48:07.850416",
     "exception": false,
     "start_time": "2022-01-14T06:48:07.836369",
     "status": "completed"
    },
    "tags": []
   },
   "source": [
    "# 写一个展示图片的函数"
   ]
  },
  {
   "cell_type": "code",
   "execution_count": 4,
   "id": "ddf28c95",
   "metadata": {
    "execution": {
     "iopub.execute_input": "2022-01-14T06:48:07.882729Z",
     "iopub.status.busy": "2022-01-14T06:48:07.881942Z",
     "iopub.status.idle": "2022-01-14T06:48:08.559983Z",
     "shell.execute_reply": "2022-01-14T06:48:08.560515Z",
     "shell.execute_reply.started": "2022-01-14T05:19:26.231607Z"
    },
    "papermill": {
     "duration": 0.696026,
     "end_time": "2022-01-14T06:48:08.560700",
     "exception": false,
     "start_time": "2022-01-14T06:48:07.864674",
     "status": "completed"
    },
    "tags": []
   },
   "outputs": [
    {
     "data": {
      "image/png": "[encoded data removed]",
      "text/plain": [
       "<Figure size 432x288 with 1 Axes>"
      ]
     },
     "metadata": {
      "needs_background": "light"
     },
     "output_type": "display_data"
    }
   ],
   "source": [
    "def imshow(inp, title=None):\n",
    "    # 于 plt.imshow() 实际输入的是(imagesize,imagesize,channels),\n",
    "    # 而 def imshow() 中，参数img的格式为(channels,imagesize,imagesize),\n",
    "    # 这两者的格式不一致，我们需要调用一次 np.transpose 函数，即 np.transpose(npimg,(1,2,0))\n",
    "    # 将 npimg 的数据格式由（channels,imagesize,imagesize）转化为（imagesize,imagesize,channels）\n",
    "    # 把 0，1，2 转换成 1，2，0\n",
    "    inp = inp.numpy().transpose((1,2,0))\n",
    "    \n",
    "    # 使用 ImageNet 训练数百万次得到 平均值 和 标准差\n",
    "    mean = np.array([0.485, 0.456, 0.406])\n",
    "    std  = np.array([0.229, 0.224, 0.225])\n",
    "    \n",
    "    # x = (x-mean)/std \n",
    "    inp = std * inp + mean\n",
    "    \n",
    "    # np.clip(a, a_min, a_max, out)\n",
    "    # a为输入数组。a_min为限定的最小值，a_max为限定的最大值，这两个都可以是数组，但是shape得跟a一样\n",
    "    inp = np.clip(inp, 0, 1)\n",
    "    \n",
    "    # \n",
    "    plt.imshow(inp)\n",
    "    \n",
    "    if title is not None:\n",
    "        plt.title(title)\n",
    "    \n",
    "    # 如果当前有活动的图形，在pause函数运行前，图形将会更新并显示，在等待期间事件循环会一直运行，直到暂停时间0.001秒后结束\n",
    "    plt.pause(0.001)\n",
    "\n",
    "# 迭代训练集，得到训练集的输入值和类型，类型为整数\n",
    "inputs, classes = next(iter(dataloaders['train']))\n",
    "\n",
    "# 输出图像，用图像做一个网络\n",
    "out = torchvision.utils.make_grid(inputs, padding=12)\n",
    "\n",
    "# classes 的结果是 tensor([1, 1, 0, 1]);    \n",
    "# class_names=['ants', 'bees']  \n",
    "# class_names[0]='ants'; class_names[1]='bees'\n",
    "imshow(out, title=[class_names[x] for x in classes])"
   ]
  },
  {
   "cell_type": "markdown",
   "id": "04e1dc53",
   "metadata": {
    "papermill": {
     "duration": 0.017452,
     "end_time": "2022-01-14T06:48:08.595222",
     "exception": false,
     "start_time": "2022-01-14T06:48:08.577770",
     "status": "completed"
    },
    "tags": []
   },
   "source": [
    "# 训练模型的函数\n",
    "涉及到**模型**、**优化器**、**迭代数**"
   ]
  },
  {
   "cell_type": "code",
   "execution_count": 5,
   "id": "55e31c27",
   "metadata": {
    "execution": {
     "iopub.execute_input": "2022-01-14T06:48:08.633192Z",
     "iopub.status.busy": "2022-01-14T06:48:08.632468Z",
     "iopub.status.idle": "2022-01-14T06:48:08.647172Z",
     "shell.execute_reply": "2022-01-14T06:48:08.647729Z",
     "shell.execute_reply.started": "2022-01-14T05:19:26.700781Z"
    },
    "papermill": {
     "duration": 0.035469,
     "end_time": "2022-01-14T06:48:08.647905",
     "exception": false,
     "start_time": "2022-01-14T06:48:08.612436",
     "status": "completed"
    },
    "tags": []
   },
   "outputs": [],
   "source": [
    "def train_model(model, criterion, optimizer, scheduler, num_epochs = 25):\n",
    "    # time.time()返回1970纪元后的秒数浮点数\n",
    "    since = time.time()\n",
    "    \n",
    "    best_model_wts = copy.deepcopy(model.state_dict())\n",
    "    best_acc = 0.0\n",
    "    \n",
    "    for epoch in range(num_epochs):\n",
    "        print('Epoch {}/{}'.format(epoch + 1, num_epochs))\n",
    "        print('-' * 10)\n",
    "        \n",
    "        for phase in ['train','val']:\n",
    "            if phase == 'train':\n",
    "                # 启用 Batch Normalization 和 Dropout\n",
    "                # 保证BN层能够用到每一批数据的均值和方差\n",
    "                model.train()\n",
    "            else:\n",
    "                # 不启用 Batch Normalization 和 Dropout。\n",
    "                model.eval()\n",
    "\n",
    "            running_loss = 0.0\n",
    "            running_corrects = 0\n",
    "\n",
    "            for inputs, labels in dataloaders[phase]:\n",
    "                inputs = inputs.to(device)\n",
    "                labels = labels.to(device)\n",
    "                \n",
    "                # 参数梯度的手动归零\n",
    "                optimizer.zero_grad()\n",
    "                \n",
    "                # 前向传播\n",
    "                with torch.set_grad_enabled(phase == 'train'):\n",
    "                    outputs = model(inputs)\n",
    "                    _, preds = torch.max(outputs, 1)\n",
    "                    loss = criterion(outputs, labels)\n",
    "                    \n",
    "                    if phase == 'train':\n",
    "                        loss.backward()\n",
    "                        optimizer.step()\n",
    "                        \n",
    "                running_loss += loss.item() * inputs.size(0)\n",
    "                running_corrects += torch.sum(preds == labels.data)\n",
    "            \n",
    "            if phase == 'train':\n",
    "                scheduler.step()\n",
    "            \n",
    "            epoch_loss = running_loss / dataset_sizes[phase]\n",
    "            epoch_acc = running_corrects.double() / dataset_sizes[phase]\n",
    "            \n",
    "            print('{} Loss: {:.4f} Acc: {:.4f}'.format(phase, epoch_loss, epoch_acc))\n",
    "            \n",
    "            # 迁移？\n",
    "            if phase == 'val' and epoch_acc > best_acc:\n",
    "                best_acc = epoch_acc\n",
    "                best_model_wts = copy.deepcopy(model.state_dict())\n",
    "                \n",
    "        print()\n",
    "    \n",
    "    time_elapsed = time.time() - since\n",
    "    print('Training complete in {:.0f}m {:.0f}s'.\n",
    "          format(time_elapsed // 60, time_elapsed % 60))\n",
    "    \n",
    "    print('Best val Acc: {:4f}'.format(best_acc))\n",
    "    \n",
    "    model.load_state_dict(best_model_wts)\n",
    "    return model"
   ]
  },
  {
   "cell_type": "code",
   "execution_count": 6,
   "id": "fa34f6ae",
   "metadata": {
    "execution": {
     "iopub.execute_input": "2022-01-14T06:48:08.686346Z",
     "iopub.status.busy": "2022-01-14T06:48:08.685600Z",
     "iopub.status.idle": "2022-01-14T06:48:08.694081Z",
     "shell.execute_reply": "2022-01-14T06:48:08.694689Z",
     "shell.execute_reply.started": "2022-01-14T05:19:26.715433Z"
    },
    "papermill": {
     "duration": 0.029076,
     "end_time": "2022-01-14T06:48:08.694868",
     "exception": false,
     "start_time": "2022-01-14T06:48:08.665792",
     "status": "completed"
    },
    "tags": []
   },
   "outputs": [],
   "source": [
    "def visualize_model(model, num_images=6):\n",
    "    was_training = model.training\n",
    "    model.eval()\n",
    "    images_so_far = 0 \n",
    "    fig = plt.figure()\n",
    "    \n",
    "    with torch.no_grad():\n",
    "        for i, (inputs, labels) in enumerate(dataloaders['val']):\n",
    "            inputs = inputs.to(device)\n",
    "            labels = labels.to(device)\n",
    "            \n",
    "            outputs = model(inputs)\n",
    "            _, preds = torch.max(outputs, 1)\n",
    "            \n",
    "            for j in range(inputs.size()[0]):\n",
    "                images_so_far += 1\n",
    "                ax = plt.subplot(num_images//2, 2, images_so_far)\n",
    "                ax.axis('off')\n",
    "                ax.set_title('predicted: {}'.format(class_names[preds[j]]))\n",
    "                imshow(inputs.cpu().data[j])\n",
    "                \n",
    "                if images_so_far == num_images:\n",
    "                    model.train(mode = was_training)\n",
    "                    return\n",
    "                 \n",
    "        model.train(mode=was_training)"
   ]
  },
  {
   "cell_type": "code",
   "execution_count": 7,
   "id": "6a568e45",
   "metadata": {
    "execution": {
     "iopub.execute_input": "2022-01-14T06:48:08.731912Z",
     "iopub.status.busy": "2022-01-14T06:48:08.731242Z",
     "iopub.status.idle": "2022-01-14T06:48:15.147421Z",
     "shell.execute_reply": "2022-01-14T06:48:15.146815Z",
     "shell.execute_reply.started": "2022-01-14T05:19:26.729551Z"
    },
    "papermill": {
     "duration": 6.435784,
     "end_time": "2022-01-14T06:48:15.147593",
     "exception": false,
     "start_time": "2022-01-14T06:48:08.711809",
     "status": "completed"
    },
    "tags": []
   },
   "outputs": [
    {
     "name": "stderr",
     "output_type": "stream",
     "text": [
      "Downloading: \"https://download.pytorch.org/models/resnet18-f37072fd.pth\" to /root/.cache/torch/hub/checkpoints/resnet18-f37072fd.pth\n"
     ]
    },
    {
     "data": {
      "application/vnd.jupyter.widget-view+json": {
       "model_id": "453e5e20a34d47fcbcb9f10a190f9b80",
       "version_major": 2,
       "version_minor": 0
      },
      "text/plain": [
       "  0%|          | 0.00/44.7M [00:00<?, ?B/s]"
      ]
     },
     "metadata": {},
     "output_type": "display_data"
    }
   ],
   "source": [
    "model_ft = models.resnet18(pretrained=True)\n",
    "num_fits = model_ft.fc.in_features\n",
    "\n",
    "model_ft.fc = nn.Linear(num_fits, 2)\n",
    "model_ft = model_ft.to(device)\n",
    "\n",
    "criterion = nn.CrossEntropyLoss()\n",
    "\n",
    "optimizer_ft = optim.SGD(model_ft.parameters(), lr=0.001, momentum=0.9)\n",
    "\n",
    "exp_lr_scheduler = lr_scheduler.StepLR(optimizer_ft, step_size = 7, gamma=0.1)\n"
   ]
  },
  {
   "cell_type": "code",
   "execution_count": 8,
   "id": "809c7036",
   "metadata": {
    "execution": {
     "iopub.execute_input": "2022-01-14T06:48:15.186324Z",
     "iopub.status.busy": "2022-01-14T06:48:15.185628Z",
     "iopub.status.idle": "2022-01-14T06:48:15.188220Z",
     "shell.execute_reply": "2022-01-14T06:48:15.188687Z",
     "shell.execute_reply.started": "2022-01-14T05:19:35.919308Z"
    },
    "papermill": {
     "duration": 0.023382,
     "end_time": "2022-01-14T06:48:15.188869",
     "exception": false,
     "start_time": "2022-01-14T06:48:15.165487",
     "status": "completed"
    },
    "tags": []
   },
   "outputs": [],
   "source": [
    "#model_ft = train_model(model_ft, criterion, optimizer_ft, \n",
    "                       #exp_lr_scheduler, num_epochs=25)"
   ]
  },
  {
   "cell_type": "code",
   "execution_count": 9,
   "id": "c1c9e155",
   "metadata": {
    "execution": {
     "iopub.execute_input": "2022-01-14T06:48:15.229440Z",
     "iopub.status.busy": "2022-01-14T06:48:15.228753Z",
     "iopub.status.idle": "2022-01-14T06:48:15.231180Z",
     "shell.execute_reply": "2022-01-14T06:48:15.230664Z",
     "shell.execute_reply.started": "2022-01-14T05:19:35.925447Z"
    },
    "papermill": {
     "duration": 0.024569,
     "end_time": "2022-01-14T06:48:15.231327",
     "exception": false,
     "start_time": "2022-01-14T06:48:15.206758",
     "status": "completed"
    },
    "tags": []
   },
   "outputs": [],
   "source": [
    "#visualize_model(model_ft)"
   ]
  },
  {
   "cell_type": "code",
   "execution_count": 10,
   "id": "0ba9b1f3",
   "metadata": {
    "execution": {
     "iopub.execute_input": "2022-01-14T06:48:15.274471Z",
     "iopub.status.busy": "2022-01-14T06:48:15.273752Z",
     "iopub.status.idle": "2022-01-14T06:48:15.521347Z",
     "shell.execute_reply": "2022-01-14T06:48:15.521894Z",
     "shell.execute_reply.started": "2022-01-14T05:19:35.934968Z"
    },
    "papermill": {
     "duration": 0.272816,
     "end_time": "2022-01-14T06:48:15.522069",
     "exception": false,
     "start_time": "2022-01-14T06:48:15.249253",
     "status": "completed"
    },
    "tags": []
   },
   "outputs": [],
   "source": [
    "# ConvNet 固定特征提取器\n",
    "model_conv = torchvision.models.resnet18(pretrained=True)\n",
    "for param in model_conv.parameters():\n",
    "    param.requires_grad = False\n",
    "    \n",
    "num_fits = model_conv.fc.in_features\n",
    "model_conv.fc = nn.Linear(512, 2)\n",
    "model_conv = model_conv.to(device)\n",
    "\n",
    "criterion = nn.CrossEntropyLoss()\n",
    "\n",
    "optimizer_conv = optim.SGD(model_conv.fc.parameters(), lr=0.001, momentum=0.9)\n",
    "\n",
    "exp_lr_scheduler = lr_scheduler.StepLR(optimizer_conv, step_size = 7, gamma=0.1)"
   ]
  },
  {
   "cell_type": "code",
   "execution_count": 11,
   "id": "5d6f1c46",
   "metadata": {
    "execution": {
     "iopub.execute_input": "2022-01-14T06:48:15.563271Z",
     "iopub.status.busy": "2022-01-14T06:48:15.560554Z",
     "iopub.status.idle": "2022-01-14T06:56:14.544469Z",
     "shell.execute_reply": "2022-01-14T06:56:14.543849Z",
     "shell.execute_reply.started": "2022-01-14T05:19:36.182675Z"
    },
    "papermill": {
     "duration": 479.004339,
     "end_time": "2022-01-14T06:56:14.544642",
     "exception": false,
     "start_time": "2022-01-14T06:48:15.540303",
     "status": "completed"
    },
    "tags": []
   },
   "outputs": [
    {
     "name": "stdout",
     "output_type": "stream",
     "text": [
      "Epoch 1/25\n",
      "----------\n",
      "train Loss: 0.6465 Acc: 0.6885\n",
      "val Loss: 0.2240 Acc: 0.9216\n",
      "\n",
      "Epoch 2/25\n",
      "----------\n",
      "train Loss: 0.5180 Acc: 0.7828\n",
      "val Loss: 0.2121 Acc: 0.9281\n",
      "\n",
      "Epoch 3/25\n",
      "----------\n",
      "train Loss: 0.4494 Acc: 0.8074\n",
      "val Loss: 0.1638 Acc: 0.9608\n",
      "\n",
      "Epoch 4/25\n",
      "----------\n",
      "train Loss: 0.5033 Acc: 0.7705\n",
      "val Loss: 0.1560 Acc: 0.9477\n",
      "\n",
      "Epoch 5/25\n",
      "----------\n",
      "train Loss: 0.4217 Acc: 0.8156\n",
      "val Loss: 0.1704 Acc: 0.9477\n",
      "\n",
      "Epoch 6/25\n",
      "----------\n",
      "train Loss: 0.4629 Acc: 0.8197\n",
      "val Loss: 0.1713 Acc: 0.9608\n",
      "\n",
      "Epoch 7/25\n",
      "----------\n",
      "train Loss: 0.4675 Acc: 0.7869\n",
      "val Loss: 0.2448 Acc: 0.9085\n",
      "\n",
      "Epoch 8/25\n",
      "----------\n",
      "train Loss: 0.4990 Acc: 0.8033\n",
      "val Loss: 0.1871 Acc: 0.9281\n",
      "\n",
      "Epoch 9/25\n",
      "----------\n",
      "train Loss: 0.2306 Acc: 0.9098\n",
      "val Loss: 0.1797 Acc: 0.9412\n",
      "\n",
      "Epoch 10/25\n",
      "----------\n",
      "train Loss: 0.4026 Acc: 0.8197\n",
      "val Loss: 0.1986 Acc: 0.9412\n",
      "\n",
      "Epoch 11/25\n",
      "----------\n",
      "train Loss: 0.4224 Acc: 0.8402\n",
      "val Loss: 0.1860 Acc: 0.9346\n",
      "\n",
      "Epoch 12/25\n",
      "----------\n",
      "train Loss: 0.3324 Acc: 0.8730\n",
      "val Loss: 0.1774 Acc: 0.9542\n",
      "\n",
      "Epoch 13/25\n",
      "----------\n",
      "train Loss: 0.4368 Acc: 0.8156\n",
      "val Loss: 0.1759 Acc: 0.9412\n",
      "\n",
      "Epoch 14/25\n",
      "----------\n",
      "train Loss: 0.3826 Acc: 0.8238\n",
      "val Loss: 0.1753 Acc: 0.9346\n",
      "\n",
      "Epoch 15/25\n",
      "----------\n",
      "train Loss: 0.4269 Acc: 0.7910\n",
      "val Loss: 0.1917 Acc: 0.9477\n",
      "\n",
      "Epoch 16/25\n",
      "----------\n",
      "train Loss: 0.2494 Acc: 0.8893\n",
      "val Loss: 0.1679 Acc: 0.9477\n",
      "\n",
      "Epoch 17/25\n",
      "----------\n",
      "train Loss: 0.3594 Acc: 0.8607\n",
      "val Loss: 0.1836 Acc: 0.9542\n",
      "\n",
      "Epoch 18/25\n",
      "----------\n",
      "train Loss: 0.3031 Acc: 0.8566\n",
      "val Loss: 0.1695 Acc: 0.9542\n",
      "\n",
      "Epoch 19/25\n",
      "----------\n",
      "train Loss: 0.3338 Acc: 0.8361\n",
      "val Loss: 0.1845 Acc: 0.9412\n",
      "\n",
      "Epoch 20/25\n",
      "----------\n",
      "train Loss: 0.3941 Acc: 0.8361\n",
      "val Loss: 0.1720 Acc: 0.9608\n",
      "\n",
      "Epoch 21/25\n",
      "----------\n",
      "train Loss: 0.2804 Acc: 0.8811\n",
      "val Loss: 0.1884 Acc: 0.9542\n",
      "\n",
      "Epoch 22/25\n",
      "----------\n",
      "train Loss: 0.3472 Acc: 0.8361\n",
      "val Loss: 0.1794 Acc: 0.9542\n",
      "\n",
      "Epoch 23/25\n",
      "----------\n",
      "train Loss: 0.2657 Acc: 0.8893\n",
      "val Loss: 0.1845 Acc: 0.9412\n",
      "\n",
      "Epoch 24/25\n",
      "----------\n",
      "train Loss: 0.4133 Acc: 0.8361\n",
      "val Loss: 0.1826 Acc: 0.9542\n",
      "\n",
      "Epoch 25/25\n",
      "----------\n",
      "train Loss: 0.3269 Acc: 0.8566\n",
      "val Loss: 0.2257 Acc: 0.9346\n",
      "\n",
      "Training complete in 7m 59s\n",
      "Best val Acc: 0.960784\n"
     ]
    }
   ],
   "source": [
    "model_conv = train_model(model_conv,\n",
    "                         criterion,\n",
    "                         optimizer_conv,\n",
    "                         exp_lr_scheduler,\n",
    "                         num_epochs=25)"
   ]
  },
  {
   "cell_type": "code",
   "execution_count": 12,
   "id": "45064c74",
   "metadata": {
    "execution": {
     "iopub.execute_input": "2022-01-14T06:56:14.620116Z",
     "iopub.status.busy": "2022-01-14T06:56:14.619453Z",
     "iopub.status.idle": "2022-01-14T06:56:15.936571Z",
     "shell.execute_reply": "2022-01-14T06:56:15.938414Z",
     "shell.execute_reply.started": "2022-01-14T05:21:02.963578Z"
    },
    "papermill": {
     "duration": 1.359985,
     "end_time": "2022-01-14T06:56:15.938698",
     "exception": false,
     "start_time": "2022-01-14T06:56:14.578713",
     "status": "completed"
    },
    "tags": []
   },
   "outputs": [
    {
     "data": {
      "image/png": "[encoded data removed]",
      "text/plain": [
       "<Figure size 432x288 with 1 Axes>"
      ]
     },
     "metadata": {
      "needs_background": "light"
     },
     "output_type": "display_data"
    },
    {
     "data": {
      "image/png": "[encoded data removed]",
      "text/plain": [
       "<Figure size 432x288 with 1 Axes>"
      ]
     },
     "metadata": {
      "needs_background": "light"
     },
     "output_type": "display_data"
    },
    {
     "data": {
      "image/png": "[encoded data removed]",
      "text/plain": [
       "<Figure size 432x288 with 1 Axes>"
      ]
     },
     "metadata": {
      "needs_background": "light"
     },
     "output_type": "display_data"
    },
    {
     "data": {
      "image/png": "[encoded data removed]",
      "text/plain": [
       "<Figure size 432x288 with 1 Axes>"
      ]
     },
     "metadata": {
      "needs_background": "light"
     },
     "output_type": "display_data"
    },
    {
     "data": {
      "image/png": "[encoded data removed]",
      "text/plain": [
       "<Figure size 432x288 with 1 Axes>"
      ]
     },
     "metadata": {
      "needs_background": "light"
     },
     "output_type": "display_data"
    },
    {
     "data": {
      "image/png": "[encoded data removed]",
      "text/plain": [
       "<Figure size 432x288 with 1 Axes>"
      ]
     },
     "metadata": {
      "needs_background": "light"
     },
     "output_type": "display_data"
    }
   ],
   "source": [
    "visualize_model(model_conv)\n",
    "plt.ioff()\n",
    "plt.show()"
   ]
  },
  {
   "cell_type": "code",
   "execution_count": null,
   "id": "6491b7ef",
   "metadata": {
    "papermill": {
     "duration": 0.047877,
     "end_time": "2022-01-14T06:56:16.039810",
     "exception": false,
     "start_time": "2022-01-14T06:56:15.991933",
     "status": "completed"
    },
    "tags": []
   },
   "outputs": [],
   "source": []
  }
 ],
 "metadata": {
  "kernelspec": {
   "display_name": "Python 3",
   "language": "python",
   "name": "python3"
  },
  "language_info": {
   "codemirror_mode": {
    "name": "ipython",
    "version": 3
   },
   "file_extension": ".py",
   "mimetype": "text/x-python",
   "name": "python",
   "nbconvert_exporter": "python",
   "pygments_lexer": "ipython3",
   "version": "3.7.12"
  },
  "papermill": {
   "default_parameters": {},
   "duration": 500.329684,
   "end_time": "2022-01-14T06:56:16.893878",
   "environment_variables": {},
   "exception": null,
   "input_path": "__notebook__.ipynb",
   "output_path": "__notebook__.ipynb",
   "parameters": {},
   "start_time": "2022-01-14T06:47:56.564194",
   "version": "2.3.3"
  },
  "widgets": {
   "application/vnd.jupyter.widget-state+json": {
    "state": {
     "39a6a5a51f254e3f81a2dc24bb733ae6": {
      "model_module": "@jupyter-widgets/controls",
      "model_module_version": "1.5.0",
      "model_name": "HTMLModel",
      "state": {
       "_dom_classes": [],
       "_model_module": "@jupyter-widgets/controls",
       "_model_module_version": "1.5.0",
       "_model_name": "HTMLModel",
       "_view_count": null,
       "_view_module": "@jupyter-widgets/controls",
       "_view_module_version": "1.5.0",
       "_view_name": "HTMLView",
       "description": "",
       "description_tooltip": null,
       "layout": "IPY_MODEL_440e0c367dcb4465b34d1a22351ab6d1",
       "placeholder": "​",
       "style": "IPY_MODEL_d620a1c0824c45449bbc5d8455d17d72",
       "value": " 44.7M/44.7M [00:05&lt;00:00, 12.2MB/s]"
      }
     },
     "4265cabf9eed4e299dbbaaf37b4a5fce": {
      "model_module": "@jupyter-widgets/base",
      "model_module_version": "1.2.0",
      "model_name": "LayoutModel",
      "state": {
       "_model_module": "@jupyter-widgets/base",
       "_model_module_version": "1.2.0",
       "_model_name": "LayoutModel",
       "_view_count": null,
       "_view_module": "@jupyter-widgets/base",
       "_view_module_version": "1.2.0",
       "_view_name": "LayoutView",
       "align_content": null,
       "align_items": null,
       "align_self": null,
       "border": null,
       "bottom": null,
       "display": null,
       "flex": null,
       "flex_flow": null,
       "grid_area": null,
       "grid_auto_columns": null,
       "grid_auto_flow": null,
       "grid_auto_rows": null,
       "grid_column": null,
       "grid_gap": null,
       "grid_row": null,
       "grid_template_areas": null,
       "grid_template_columns": null,
       "grid_template_rows": null,
       "height": null,
       "justify_content": null,
       "justify_items": null,
       "left": null,
       "margin": null,
       "max_height": null,
       "max_width": null,
       "min_height": null,
       "min_width": null,
       "object_fit": null,
       "object_position": null,
       "order": null,
       "overflow": null,
       "overflow_x": null,
       "overflow_y": null,
       "padding": null,
       "right": null,
       "top": null,
       "visibility": null,
       "width": null
      }
     },
     "440e0c367dcb4465b34d1a22351ab6d1": {
      "model_module": "@jupyter-widgets/base",
      "model_module_version": "1.2.0",
      "model_name": "LayoutModel",
      "state": {
       "_model_module": "@jupyter-widgets/base",
       "_model_module_version": "1.2.0",
       "_model_name": "LayoutModel",
       "_view_count": null,
       "_view_module": "@jupyter-widgets/base",
       "_view_module_version": "1.2.0",
       "_view_name": "LayoutView",
       "align_content": null,
       "align_items": null,
       "align_self": null,
       "border": null,
       "bottom": null,
       "display": null,
       "flex": null,
       "flex_flow": null,
       "grid_area": null,
       "grid_auto_columns": null,
       "grid_auto_flow": null,
       "grid_auto_rows": null,
       "grid_column": null,
       "grid_gap": null,
       "grid_row": null,
       "grid_template_areas": null,
       "grid_template_columns": null,
       "grid_template_rows": null,
       "height": null,
       "justify_content": null,
       "justify_items": null,
       "left": null,
       "margin": null,
       "max_height": null,
       "max_width": null,
       "min_height": null,
       "min_width": null,
       "object_fit": null,
       "object_position": null,
       "order": null,
       "overflow": null,
       "overflow_x": null,
       "overflow_y": null,
       "padding": null,
       "right": null,
       "top": null,
       "visibility": null,
       "width": null
      }
     },
     "453e5e20a34d47fcbcb9f10a190f9b80": {
      "model_module": "@jupyter-widgets/controls",
      "model_module_version": "1.5.0",
      "model_name": "HBoxModel",
      "state": {
       "_dom_classes": [],
       "_model_module": "@jupyter-widgets/controls",
       "_model_module_version": "1.5.0",
       "_model_name": "HBoxModel",
       "_view_count": null,
       "_view_module": "@jupyter-widgets/controls",
       "_view_module_version": "1.5.0",
       "_view_name": "HBoxView",
       "box_style": "",
       "children": [
        "IPY_MODEL_ad5dcf533b914648bcf08c61e82abafb",
        "IPY_MODEL_5772ed90501b493586a9087da78a093e",
        "IPY_MODEL_39a6a5a51f254e3f81a2dc24bb733ae6"
       ],
       "layout": "IPY_MODEL_a4e8940cdbdc4cf8aa9f01370d281ec1"
      }
     },
     "5772ed90501b493586a9087da78a093e": {
      "model_module": "@jupyter-widgets/controls",
      "model_module_version": "1.5.0",
      "model_name": "FloatProgressModel",
      "state": {
       "_dom_classes": [],
       "_model_module": "@jupyter-widgets/controls",
       "_model_module_version": "1.5.0",
       "_model_name": "FloatProgressModel",
       "_view_count": null,
       "_view_module": "@jupyter-widgets/controls",
       "_view_module_version": "1.5.0",
       "_view_name": "ProgressView",
       "bar_style": "success",
       "description": "",
       "description_tooltip": null,
       "layout": "IPY_MODEL_4265cabf9eed4e299dbbaaf37b4a5fce",
       "max": 46830571.0,
       "min": 0.0,
       "orientation": "horizontal",
       "style": "IPY_MODEL_9fc83dfbbec2428ca2dc7dcf626fbc0d",
       "value": 46830571.0
      }
     },
     "9fc83dfbbec2428ca2dc7dcf626fbc0d": {
      "model_module": "@jupyter-widgets/controls",
      "model_module_version": "1.5.0",
      "model_name": "ProgressStyleModel",
      "state": {
       "_model_module": "@jupyter-widgets/controls",
       "_model_module_version": "1.5.0",
       "_model_name": "ProgressStyleModel",
       "_view_count": null,
       "_view_module": "@jupyter-widgets/base",
       "_view_module_version": "1.2.0",
       "_view_name": "StyleView",
       "bar_color": null,
       "description_width": ""
      }
     },
     "a4e8940cdbdc4cf8aa9f01370d281ec1": {
      "model_module": "@jupyter-widgets/base",
      "model_module_version": "1.2.0",
      "model_name": "LayoutModel",
      "state": {
       "_model_module": "@jupyter-widgets/base",
       "_model_module_version": "1.2.0",
       "_model_name": "LayoutModel",
       "_view_count": null,
       "_view_module": "@jupyter-widgets/base",
       "_view_module_version": "1.2.0",
       "_view_name": "LayoutView",
       "align_content": null,
       "align_items": null,
       "align_self": null,
       "border": null,
       "bottom": null,
       "display": null,
       "flex": null,
       "flex_flow": null,
       "grid_area": null,
       "grid_auto_columns": null,
       "grid_auto_flow": null,
       "grid_auto_rows": null,
       "grid_column": null,
       "grid_gap": null,
       "grid_row": null,
       "grid_template_areas": null,
       "grid_template_columns": null,
       "grid_template_rows": null,
       "height": null,
       "justify_content": null,
       "justify_items": null,
       "left": null,
       "margin": null,
       "max_height": null,
       "max_width": null,
       "min_height": null,
       "min_width": null,
       "object_fit": null,
       "object_position": null,
       "order": null,
       "overflow": null,
       "overflow_x": null,
       "overflow_y": null,
       "padding": null,
       "right": null,
       "top": null,
       "visibility": null,
       "width": null
      }
     },
     "ad5dcf533b914648bcf08c61e82abafb": {
      "model_module": "@jupyter-widgets/controls",
      "model_module_version": "1.5.0",
      "model_name": "HTMLModel",
      "state": {
       "_dom_classes": [],
       "_model_module": "@jupyter-widgets/controls",
       "_model_module_version": "1.5.0",
       "_model_name": "HTMLModel",
       "_view_count": null,
       "_view_module": "@jupyter-widgets/controls",
       "_view_module_version": "1.5.0",
       "_view_name": "HTMLView",
       "description": "",
       "description_tooltip": null,
       "layout": "IPY_MODEL_bb3baa2bf9a24de48f5368fb03521c3c",
       "placeholder": "​",
       "style": "IPY_MODEL_aeac2b4a6de249c688e09bc825e4b7c8",
       "value": "100%"
      }
     },
     "aeac2b4a6de249c688e09bc825e4b7c8": {
      "model_module": "@jupyter-widgets/controls",
      "model_module_version": "1.5.0",
      "model_name": "DescriptionStyleModel",
      "state": {
       "_model_module": "@jupyter-widgets/controls",
       "_model_module_version": "1.5.0",
       "_model_name": "DescriptionStyleModel",
       "_view_count": null,
       "_view_module": "@jupyter-widgets/base",
       "_view_module_version": "1.2.0",
       "_view_name": "StyleView",
       "description_width": ""
      }
     },
     "bb3baa2bf9a24de48f5368fb03521c3c": {
      "model_module": "@jupyter-widgets/base",
      "model_module_version": "1.2.0",
      "model_name": "LayoutModel",
      "state": {
       "_model_module": "@jupyter-widgets/base",
       "_model_module_version": "1.2.0",
       "_model_name": "LayoutModel",
       "_view_count": null,
       "_view_module": "@jupyter-widgets/base",
       "_view_module_version": "1.2.0",
       "_view_name": "LayoutView",
       "align_content": null,
       "align_items": null,
       "align_self": null,
       "border": null,
       "bottom": null,
       "display": null,
       "flex": null,
       "flex_flow": null,
       "grid_area": null,
       "grid_auto_columns": null,
       "grid_auto_flow": null,
       "grid_auto_rows": null,
       "grid_column": null,
       "grid_gap": null,
       "grid_row": null,
       "grid_template_areas": null,
       "grid_template_columns": null,
       "grid_template_rows": null,
       "height": null,
       "justify_content": null,
       "justify_items": null,
       "left": null,
       "margin": null,
       "max_height": null,
       "max_width": null,
       "min_height": null,
       "min_width": null,
       "object_fit": null,
       "object_position": null,
       "order": null,
       "overflow": null,
       "overflow_x": null,
       "overflow_y": null,
       "padding": null,
       "right": null,
       "top": null,
       "visibility": null,
       "width": null
      }
     },
     "d620a1c0824c45449bbc5d8455d17d72": {
      "model_module": "@jupyter-widgets/controls",
      "model_module_version": "1.5.0",
      "model_name": "DescriptionStyleModel",
      "state": {
       "_model_module": "@jupyter-widgets/controls",
       "_model_module_version": "1.5.0",
       "_model_name": "DescriptionStyleModel",
       "_view_count": null,
       "_view_module": "@jupyter-widgets/base",
       "_view_module_version": "1.2.0",
       "_view_name": "StyleView",
       "description_width": ""
      }
     }
    },
    "version_major": 2,
    "version_minor": 0
   }
  }
 },
 "nbformat": 4,
 "nbformat_minor": 5
}
